{
 "cells": [
  {
   "cell_type": "code",
   "execution_count": 114,
   "metadata": {},
   "outputs": [],
   "source": [
    "import keras\n",
    "from keras.models import Sequential\n",
    "from keras.layers import Dense, Dropout, Flatten, Activation\n",
    "from keras import optimizers"
   ]
  },
  {
   "cell_type": "code",
   "execution_count": 115,
   "metadata": {},
   "outputs": [],
   "source": [
    "import numpy as np\n",
    "import pandas as pd"
   ]
  },
  {
   "cell_type": "code",
   "execution_count": 116,
   "metadata": {},
   "outputs": [],
   "source": [
    "Xdata_1 = np.zeros((30,1,30000))\n",
    "\n",
    "for x in range(0,29):\n",
    "    Xdata_1[x] = pd.read_excel('{num}.xls'.format(num = x)).drop('Col5',axis=1).values.reshape((1,-1))\n",
    "    \n",
    "X_train = Xdata_1.reshape(30,30000)"
   ]
  },
  {
   "cell_type": "code",
   "execution_count": 117,
   "metadata": {},
   "outputs": [
    {
     "data": {
      "text/plain": [
       "(30, 30000)"
      ]
     },
     "execution_count": 117,
     "metadata": {},
     "output_type": "execute_result"
    }
   ],
   "source": [
    "X_train.shape"
   ]
  },
  {
   "cell_type": "code",
   "execution_count": 118,
   "metadata": {},
   "outputs": [],
   "source": [
    "Xdata_2 = np.zeros((10,1,30000))\n",
    "\n",
    "for x in range(30,39):\n",
    "    Xdata_2[x-30] = pd.read_excel('{num}.xls'.format(num = x)).drop('Col5',axis=1).values.reshape((1,-1))\n",
    "    \n",
    "X_test = Xdata_2.reshape(10,30000)"
   ]
  },
  {
   "cell_type": "code",
   "execution_count": 119,
   "metadata": {},
   "outputs": [
    {
     "data": {
      "text/plain": [
       "(10, 30000)"
      ]
     },
     "execution_count": 119,
     "metadata": {},
     "output_type": "execute_result"
    }
   ],
   "source": [
    "X_test.shape"
   ]
  },
  {
   "cell_type": "code",
   "execution_count": 120,
   "metadata": {},
   "outputs": [],
   "source": [
    "Ydata = np.array([0.490, 0.306, 0.418, 0.504, 0.499, 0.848, 0.654, 0.473, 0.453, 0.399, \n",
    "                  0.551, 0.425, 0.588, 0.747, 0.443, 0.324, 0.571, 0.667, 0.554, 0.705,\n",
    "                  0.926, 0.492, 0.715, 0.647, 0.626, 0.743, 1.110, 1.073, 0.684, 0.347,\n",
    "                  0.636, 0.331, 0.574, 0.473, 0.370, 0.563, 0.845, 0.928, 0.418, 0.404]).reshape(-1,1)"
   ]
  },
  {
   "cell_type": "code",
   "execution_count": 121,
   "metadata": {},
   "outputs": [],
   "source": [
    "Y_train = Ydata[0:30]\n",
    "Y_test = Ydata[30:40]"
   ]
  },
  {
   "cell_type": "code",
   "execution_count": 122,
   "metadata": {},
   "outputs": [
    {
     "data": {
      "text/plain": [
       "(30, 1)"
      ]
     },
     "execution_count": 122,
     "metadata": {},
     "output_type": "execute_result"
    }
   ],
   "source": [
    "Y_train.shape"
   ]
  },
  {
   "cell_type": "code",
   "execution_count": 123,
   "metadata": {},
   "outputs": [
    {
     "data": {
      "text/plain": [
       "(10, 1)"
      ]
     },
     "execution_count": 123,
     "metadata": {},
     "output_type": "execute_result"
    }
   ],
   "source": [
    "Y_test.shape"
   ]
  },
  {
   "cell_type": "code",
   "execution_count": 124,
   "metadata": {},
   "outputs": [],
   "source": [
    "model = Sequential()\n",
    "model.add(Dense(input_dim=30000, units=1, activation='tanh'))\n",
    "model.compile(loss='mse', optimizer='sgd')"
   ]
  },
  {
   "cell_type": "code",
   "execution_count": 125,
   "metadata": {},
   "outputs": [
    {
     "name": "stdout",
     "output_type": "stream",
     "text": [
      "Epoch 1/100\n",
      "30/30 [==============================] - 0s 4ms/step - loss: 0.2532\n",
      "Epoch 2/100\n",
      "30/30 [==============================] - 0s 817us/step - loss: 0.1128\n",
      "Epoch 3/100\n",
      "30/30 [==============================] - 0s 943us/step - loss: 0.0698\n",
      "Epoch 4/100\n",
      "30/30 [==============================] - 0s 864us/step - loss: 0.0535\n",
      "Epoch 5/100\n",
      "30/30 [==============================] - 0s 897us/step - loss: 0.0467\n",
      "Epoch 6/100\n",
      "30/30 [==============================] - 0s 922us/step - loss: 0.0434\n",
      "Epoch 7/100\n",
      "30/30 [==============================] - 0s 812us/step - loss: 0.0417\n",
      "Epoch 8/100\n",
      "30/30 [==============================] - 0s 996us/step - loss: 0.0408\n",
      "Epoch 9/100\n",
      "30/30 [==============================] - 0s 851us/step - loss: 0.0402\n",
      "Epoch 10/100\n",
      "30/30 [==============================] - 0s 888us/step - loss: 0.0400\n",
      "Epoch 11/100\n",
      "30/30 [==============================] - 0s 820us/step - loss: 0.0398\n",
      "Epoch 12/100\n",
      "30/30 [==============================] - 0s 941us/step - loss: 0.0397\n",
      "Epoch 13/100\n",
      "30/30 [==============================] - 0s 801us/step - loss: 0.0397\n",
      "Epoch 14/100\n",
      "30/30 [==============================] - 0s 1ms/step - loss: 0.0396\n",
      "Epoch 15/100\n",
      "30/30 [==============================] - 0s 994us/step - loss: 0.0396\n",
      "Epoch 16/100\n",
      "30/30 [==============================] - 0s 966us/step - loss: 0.0396\n",
      "Epoch 17/100\n",
      "30/30 [==============================] - 0s 783us/step - loss: 0.0395\n",
      "Epoch 18/100\n",
      "30/30 [==============================] - 0s 880us/step - loss: 0.0396\n",
      "Epoch 19/100\n",
      "30/30 [==============================] - 0s 935us/step - loss: 0.0396\n",
      "Epoch 20/100\n",
      "30/30 [==============================] - 0s 899us/step - loss: 0.0396\n",
      "Epoch 21/100\n",
      "30/30 [==============================] - 0s 817us/step - loss: 0.0396\n",
      "Epoch 22/100\n",
      "30/30 [==============================] - 0s 843us/step - loss: 0.0395\n",
      "Epoch 23/100\n",
      "30/30 [==============================] - 0s 1ms/step - loss: 0.0395\n",
      "Epoch 24/100\n",
      "30/30 [==============================] - 0s 810us/step - loss: 0.0396\n",
      "Epoch 25/100\n",
      "30/30 [==============================] - 0s 907us/step - loss: 0.0396\n",
      "Epoch 26/100\n",
      "30/30 [==============================] - 0s 1ms/step - loss: 0.0395\n",
      "Epoch 27/100\n",
      "30/30 [==============================] - 0s 1ms/step - loss: 0.0396\n",
      "Epoch 28/100\n",
      "30/30 [==============================] - 0s 1ms/step - loss: 0.0395\n",
      "Epoch 29/100\n",
      "30/30 [==============================] - 0s 1ms/step - loss: 0.0396\n",
      "Epoch 30/100\n",
      "30/30 [==============================] - 0s 1ms/step - loss: 0.0396\n",
      "Epoch 31/100\n",
      "30/30 [==============================] - 0s 922us/step - loss: 0.0396\n",
      "Epoch 32/100\n",
      "30/30 [==============================] - 0s 1ms/step - loss: 0.0396\n",
      "Epoch 33/100\n",
      "30/30 [==============================] - 0s 962us/step - loss: 0.0396\n",
      "Epoch 34/100\n",
      "30/30 [==============================] - 0s 979us/step - loss: 0.0396\n",
      "Epoch 35/100\n",
      "30/30 [==============================] - 0s 1ms/step - loss: 0.0395\n",
      "Epoch 36/100\n",
      "30/30 [==============================] - 0s 974us/step - loss: 0.0396\n",
      "Epoch 37/100\n",
      "30/30 [==============================] - 0s 1ms/step - loss: 0.0396\n",
      "Epoch 38/100\n",
      "30/30 [==============================] - 0s 907us/step - loss: 0.0396\n",
      "Epoch 39/100\n",
      "30/30 [==============================] - 0s 836us/step - loss: 0.0396\n",
      "Epoch 40/100\n",
      "30/30 [==============================] - 0s 1ms/step - loss: 0.0396\n",
      "Epoch 41/100\n",
      "30/30 [==============================] - 0s 937us/step - loss: 0.0396\n",
      "Epoch 42/100\n",
      "30/30 [==============================] - 0s 949us/step - loss: 0.0396\n",
      "Epoch 43/100\n",
      "30/30 [==============================] - 0s 1000us/step - loss: 0.0396\n",
      "Epoch 44/100\n",
      "30/30 [==============================] - 0s 1ms/step - loss: 0.0396\n",
      "Epoch 45/100\n",
      "30/30 [==============================] - 0s 1ms/step - loss: 0.0396\n",
      "Epoch 46/100\n",
      "30/30 [==============================] - 0s 944us/step - loss: 0.0395\n",
      "Epoch 47/100\n",
      "30/30 [==============================] - 0s 1ms/step - loss: 0.0396\n",
      "Epoch 48/100\n",
      "30/30 [==============================] - 0s 1ms/step - loss: 0.0396\n",
      "Epoch 49/100\n",
      "30/30 [==============================] - 0s 957us/step - loss: 0.0396\n",
      "Epoch 50/100\n",
      "30/30 [==============================] - 0s 942us/step - loss: 0.0395\n",
      "Epoch 51/100\n",
      "30/30 [==============================] - 0s 1ms/step - loss: 0.0395\n",
      "Epoch 52/100\n",
      "30/30 [==============================] - 0s 1ms/step - loss: 0.0396\n",
      "Epoch 53/100\n",
      "30/30 [==============================] - 0s 1ms/step - loss: 0.0396\n",
      "Epoch 54/100\n",
      "30/30 [==============================] - 0s 1ms/step - loss: 0.0395\n",
      "Epoch 55/100\n",
      "30/30 [==============================] - 0s 826us/step - loss: 0.0395\n",
      "Epoch 56/100\n",
      "30/30 [==============================] - 0s 819us/step - loss: 0.0396\n",
      "Epoch 57/100\n",
      "30/30 [==============================] - 0s 1ms/step - loss: 0.0395\n",
      "Epoch 58/100\n",
      "30/30 [==============================] - 0s 1ms/step - loss: 0.0396\n",
      "Epoch 59/100\n",
      "30/30 [==============================] - 0s 1ms/step - loss: 0.0396\n",
      "Epoch 60/100\n",
      "30/30 [==============================] - 0s 1000us/step - loss: 0.0396\n",
      "Epoch 61/100\n",
      "30/30 [==============================] - 0s 1ms/step - loss: 0.0395\n",
      "Epoch 62/100\n",
      "30/30 [==============================] - 0s 968us/step - loss: 0.0395\n",
      "Epoch 63/100\n",
      "30/30 [==============================] - 0s 980us/step - loss: 0.0396\n",
      "Epoch 64/100\n",
      "30/30 [==============================] - 0s 1ms/step - loss: 0.0395\n",
      "Epoch 65/100\n",
      "30/30 [==============================] - 0s 1ms/step - loss: 0.0395\n",
      "Epoch 66/100\n",
      "30/30 [==============================] - 0s 971us/step - loss: 0.0396\n",
      "Epoch 67/100\n",
      "30/30 [==============================] - 0s 933us/step - loss: 0.0395\n",
      "Epoch 68/100\n",
      "30/30 [==============================] - 0s 881us/step - loss: 0.0396\n",
      "Epoch 69/100\n",
      "30/30 [==============================] - 0s 924us/step - loss: 0.0396\n",
      "Epoch 70/100\n",
      "30/30 [==============================] - 0s 941us/step - loss: 0.0396\n",
      "Epoch 71/100\n",
      "30/30 [==============================] - 0s 1ms/step - loss: 0.0396\n",
      "Epoch 72/100\n",
      "30/30 [==============================] - 0s 1ms/step - loss: 0.0396\n",
      "Epoch 73/100\n",
      "30/30 [==============================] - 0s 1ms/step - loss: 0.0396\n",
      "Epoch 74/100\n",
      "30/30 [==============================] - 0s 1ms/step - loss: 0.0395\n",
      "Epoch 75/100\n",
      "30/30 [==============================] - 0s 1ms/step - loss: 0.0396\n",
      "Epoch 76/100\n",
      "30/30 [==============================] - 0s 1ms/step - loss: 0.0396\n",
      "Epoch 77/100\n",
      "30/30 [==============================] - 0s 925us/step - loss: 0.0396\n",
      "Epoch 78/100\n",
      "30/30 [==============================] - 0s 963us/step - loss: 0.0395\n",
      "Epoch 79/100\n",
      "30/30 [==============================] - 0s 795us/step - loss: 0.0396\n",
      "Epoch 80/100\n",
      "30/30 [==============================] - 0s 934us/step - loss: 0.0396\n",
      "Epoch 81/100\n",
      "30/30 [==============================] - 0s 899us/step - loss: 0.0396\n",
      "Epoch 82/100\n",
      "30/30 [==============================] - 0s 912us/step - loss: 0.0395\n",
      "Epoch 83/100\n",
      "30/30 [==============================] - 0s 890us/step - loss: 0.0396\n",
      "Epoch 84/100\n",
      "30/30 [==============================] - 0s 971us/step - loss: 0.0395\n",
      "Epoch 85/100\n",
      "30/30 [==============================] - 0s 783us/step - loss: 0.0395\n",
      "Epoch 86/100\n",
      "30/30 [==============================] - 0s 950us/step - loss: 0.0396\n",
      "Epoch 87/100\n",
      "30/30 [==============================] - 0s 1ms/step - loss: 0.0396\n",
      "Epoch 88/100\n",
      "30/30 [==============================] - 0s 1ms/step - loss: 0.0396\n",
      "Epoch 89/100\n",
      "30/30 [==============================] - 0s 874us/step - loss: 0.0395\n",
      "Epoch 90/100\n",
      "30/30 [==============================] - 0s 1ms/step - loss: 0.0396\n",
      "Epoch 91/100\n",
      "30/30 [==============================] - 0s 940us/step - loss: 0.0396\n",
      "Epoch 92/100\n",
      "30/30 [==============================] - 0s 1ms/step - loss: 0.0396\n",
      "Epoch 93/100\n",
      "30/30 [==============================] - 0s 1ms/step - loss: 0.0396\n",
      "Epoch 94/100\n",
      "30/30 [==============================] - 0s 946us/step - loss: 0.0396\n",
      "Epoch 95/100\n",
      "30/30 [==============================] - 0s 1ms/step - loss: 0.0396\n",
      "Epoch 96/100\n",
      "30/30 [==============================] - 0s 1ms/step - loss: 0.0396\n",
      "Epoch 97/100\n",
      "30/30 [==============================] - 0s 1ms/step - loss: 0.0396\n",
      "Epoch 98/100\n",
      "30/30 [==============================] - 0s 1ms/step - loss: 0.0395\n",
      "Epoch 99/100\n",
      "30/30 [==============================] - 0s 1ms/step - loss: 0.0396\n",
      "Epoch 100/100\n",
      "30/30 [==============================] - 0s 1ms/step - loss: 0.0395\n"
     ]
    },
    {
     "data": {
      "text/plain": [
       "<keras.callbacks.History at 0x1823ef7320>"
      ]
     },
     "execution_count": 125,
     "metadata": {},
     "output_type": "execute_result"
    }
   ],
   "source": [
    "model.fit(X_train, Y_train, batch_size=1, epochs=100, initial_epoch=0)"
   ]
  },
  {
   "cell_type": "code",
   "execution_count": 126,
   "metadata": {},
   "outputs": [
    {
     "name": "stdout",
     "output_type": "stream",
     "text": [
      "10/10 [==============================] - 0s 6ms/step\n",
      "[[0.59850895]\n",
      " [0.598512  ]\n",
      " [0.5985093 ]\n",
      " [0.5985084 ]\n",
      " [0.5985042 ]\n",
      " [0.5985068 ]\n",
      " [0.5985069 ]\n",
      " [0.5985104 ]\n",
      " [0.59850925]\n",
      " [0.59850436]]\n",
      "0.03825339754112065\n"
     ]
    }
   ],
   "source": [
    "score = model.evaluate(X_test, Y_test, batch_size=1)\n",
    "test_data = model.predict(X_test, batch_size=1)\n",
    "print (test_data)\n",
    "print (score)"
   ]
  },
  {
   "cell_type": "code",
   "execution_count": null,
   "metadata": {},
   "outputs": [],
   "source": [
    "!jupyter nbconvert --to script hw3.ipynb\n"
   ]
  }
 ],
 "metadata": {
  "kernelspec": {
   "display_name": "Python 3",
   "language": "python",
   "name": "python3"
  },
  "language_info": {
   "codemirror_mode": {
    "name": "ipython",
    "version": 3
   },
   "file_extension": ".py",
   "mimetype": "text/x-python",
   "name": "python",
   "nbconvert_exporter": "python",
   "pygments_lexer": "ipython3",
   "version": "3.6.4"
  }
 },
 "nbformat": 4,
 "nbformat_minor": 2
}
